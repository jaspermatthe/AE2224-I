{
 "cells": [
  {
   "cell_type": "code",
   "execution_count": 19,
   "metadata": {},
   "outputs": [
    {
     "name": "stdout",
     "output_type": "stream",
     "text": [
      "      0     1    2\n",
      "0  0.60 -12.0  3.0\n",
      "1  0.55 -12.0  6.0\n",
      "2  0.80   0.0  9.0\n",
      "              2\n",
      "0    1         \n",
      "0.55 -12.0  6.0\n",
      "0.60 -12.0  3.0\n",
      "0.80  0.0   9.0\n"
     ]
    }
   ],
   "source": [
    "import pandas as pd\n",
    "import numpy as np\n",
    "\n",
    "array = np.array([[0.58, -12, 3], [0.545, -12, 6], [0.801, 0, 9]])\n",
    "# convert to pandas dataframe\n",
    "df = pd.DataFrame(array)\n",
    "\n",
    "# Round the 'J' column to the nearest 0.05\n",
    "df[0] = np.round(df[0] / 0.05) * 0.05\n",
    "# Round the 'aoa' column to the nearest 1.0\n",
    "df[1] = np.round(df[1])\n",
    "\n",
    "print(df)\n",
    "averaged_arr = df.groupby([0, 1]).mean()\n",
    "print(averaged_arr)\n",
    "\n"
   ]
  },
  {
   "cell_type": "code",
   "execution_count": null,
   "metadata": {},
   "outputs": [],
   "source": []
  }
 ],
 "metadata": {
  "kernelspec": {
   "display_name": "Python 3",
   "language": "python",
   "name": "python3"
  },
  "language_info": {
   "codemirror_mode": {
    "name": "ipython",
    "version": 3
   },
   "file_extension": ".py",
   "mimetype": "text/x-python",
   "name": "python",
   "nbconvert_exporter": "python",
   "pygments_lexer": "ipython3",
   "version": "3.10.6"
  },
  "orig_nbformat": 4
 },
 "nbformat": 4,
 "nbformat_minor": 2
}
